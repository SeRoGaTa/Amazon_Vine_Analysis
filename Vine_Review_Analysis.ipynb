{
  "nbformat": 4,
  "nbformat_minor": 0,
  "metadata": {
    "colab": {
      "name": "Vine_Review_Analysis.ipynb",
      "provenance": [],
      "collapsed_sections": []
    },
    "kernelspec": {
      "name": "python3",
      "display_name": "Python 3"
    },
    "language_info": {
      "name": "python"
    }
  },
  "cells": [
    {
      "cell_type": "code",
      "metadata": {
        "id": "V58rxea0HqSa",
        "colab": {
          "base_uri": "https://localhost:8080/"
        },
        "outputId": "af9ad843-9016-4b0e-9e33-c247acd1e01e"
      },
      "source": [
        "import os\n",
        "# Find the latest version of spark 3.0 from http://www.apache.org/dist/spark/ and enter as the spark version\n",
        "# For example:\n",
        "# spark_version = 'spark-3.0.3'\n",
        "spark_version = 'spark-3.0.3'\n",
        "os.environ['SPARK_VERSION']=spark_version\n",
        "\n",
        "# Install Spark and Java\n",
        "!apt-get update\n",
        "!apt-get install openjdk-11-jdk-headless -qq > /dev/null\n",
        "!wget -q http://www.apache.org/dist/spark/$SPARK_VERSION/$SPARK_VERSION-bin-hadoop2.7.tgz\n",
        "!tar xf $SPARK_VERSION-bin-hadoop2.7.tgz\n",
        "!pip install -q findspark\n",
        "\n",
        "# Set Environment Variables\n",
        "import os\n",
        "os.environ[\"JAVA_HOME\"] = \"/usr/lib/jvm/java-11-openjdk-amd64\"\n",
        "os.environ[\"SPARK_HOME\"] = f\"/content/{spark_version}-bin-hadoop2.7\"\n",
        "\n",
        "# Start a SparkSession\n",
        "import findspark\n",
        "findspark.init()"
      ],
      "execution_count": 1,
      "outputs": [
        {
          "output_type": "stream",
          "name": "stdout",
          "text": [
            "\r0% [Working]\r            \rHit:1 http://security.ubuntu.com/ubuntu bionic-security InRelease\n",
            "Ign:2 https://developer.download.nvidia.com/compute/cuda/repos/ubuntu1804/x86_64  InRelease\n",
            "Hit:3 https://cloud.r-project.org/bin/linux/ubuntu bionic-cran40/ InRelease\n",
            "Ign:4 https://developer.download.nvidia.com/compute/machine-learning/repos/ubuntu1804/x86_64  InRelease\n",
            "Hit:5 http://ppa.launchpad.net/c2d4u.team/c2d4u4.0+/ubuntu bionic InRelease\n",
            "Hit:6 http://archive.ubuntu.com/ubuntu bionic InRelease\n",
            "Hit:7 https://developer.download.nvidia.com/compute/cuda/repos/ubuntu1804/x86_64  Release\n",
            "Hit:8 https://developer.download.nvidia.com/compute/machine-learning/repos/ubuntu1804/x86_64  Release\n",
            "Hit:9 http://archive.ubuntu.com/ubuntu bionic-updates InRelease\n",
            "Hit:10 http://ppa.launchpad.net/cran/libgit2/ubuntu bionic InRelease\n",
            "Hit:11 http://archive.ubuntu.com/ubuntu bionic-backports InRelease\n",
            "Hit:12 http://ppa.launchpad.net/deadsnakes/ppa/ubuntu bionic InRelease\n",
            "Hit:13 http://ppa.launchpad.net/graphics-drivers/ppa/ubuntu bionic InRelease\n",
            "Reading package lists... Done\n"
          ]
        }
      ]
    },
    {
      "cell_type": "code",
      "metadata": {
        "id": "_xKwTpATHqSe",
        "colab": {
          "base_uri": "https://localhost:8080/"
        },
        "outputId": "3f16e965-d8fe-4715-f4aa-6b33425709f4"
      },
      "source": [
        "# Download the Postgres driver that will allow Spark to interact with Postgres.\n",
        "!wget https://jdbc.postgresql.org/download/postgresql-42.2.16.jar"
      ],
      "execution_count": 2,
      "outputs": [
        {
          "output_type": "stream",
          "name": "stdout",
          "text": [
            "--2022-01-23 04:32:59--  https://jdbc.postgresql.org/download/postgresql-42.2.16.jar\n",
            "Resolving jdbc.postgresql.org (jdbc.postgresql.org)... 72.32.157.228, 2001:4800:3e1:1::228\n",
            "Connecting to jdbc.postgresql.org (jdbc.postgresql.org)|72.32.157.228|:443... connected.\n",
            "HTTP request sent, awaiting response... 200 OK\n",
            "Length: 1002883 (979K) [application/java-archive]\n",
            "Saving to: ‘postgresql-42.2.16.jar.1’\n",
            "\n",
            "postgresql-42.2.16. 100%[===================>] 979.38K  --.-KB/s    in 0.08s   \n",
            "\n",
            "2022-01-23 04:32:59 (11.3 MB/s) - ‘postgresql-42.2.16.jar.1’ saved [1002883/1002883]\n",
            "\n"
          ]
        }
      ]
    },
    {
      "cell_type": "code",
      "metadata": {
        "id": "MMqDAjVS0KN9"
      },
      "source": [
        "from pyspark.sql import SparkSession\n",
        "spark = SparkSession.builder.appName(\"M16-Amazon-Challenge\").config(\"spark.driver.extraClassPath\",\"/content/postgresql-42.2.16.jar\").getOrCreate()"
      ],
      "execution_count": 3,
      "outputs": []
    },
    {
      "cell_type": "markdown",
      "metadata": {
        "id": "cyBsySGuY-9V"
      },
      "source": [
        "### Load Amazon Data into Spark DataFrame"
      ]
    },
    {
      "cell_type": "code",
      "metadata": {
        "id": "CtCmBhQJY-9Z",
        "colab": {
          "base_uri": "https://localhost:8080/"
        },
        "outputId": "8e9862fb-bfee-4cf3-bb55-1f9e3eb3696b"
      },
      "source": [
        "from pyspark import SparkFiles\n",
        "url = \"https://s3.amazonaws.com/amazon-reviews-pds/tsv/amazon_reviews_us_Video_Games_v1_00.tsv.gz\"\n",
        "spark.sparkContext.addFile(url)\n",
        "df = spark.read.option(\"encoding\", \"UTF-8\").csv(SparkFiles.get(\"\"), sep=\"\\t\", header=True, inferSchema=True)\n",
        "df.show()"
      ],
      "execution_count": 4,
      "outputs": [
        {
          "output_type": "stream",
          "name": "stdout",
          "text": [
            "+-----------+-----------+--------------+----------+--------------+--------------------+----------------+-----------+-------------+-----------+----+-----------------+--------------------+--------------------+-----------+\n",
            "|marketplace|customer_id|     review_id|product_id|product_parent|       product_title|product_category|star_rating|helpful_votes|total_votes|vine|verified_purchase|     review_headline|         review_body|review_date|\n",
            "+-----------+-----------+--------------+----------+--------------+--------------------+----------------+-----------+-------------+-----------+----+-----------------+--------------------+--------------------+-----------+\n",
            "|         US|   12039526| RTIS3L2M1F5SM|B001CXYMFS|     737716809|Thrustmaster T-Fl...|     Video Games|          5|            0|          0|   N|                Y|an amazing joysti...|Used this for Eli...| 2015-08-31|\n",
            "|         US|    9636577| R1ZV7R40OLHKD|B00M920ND6|     569686175|Tonsee 6 buttons ...|     Video Games|          5|            0|          0|   N|                Y|Definitely a sile...|Loved it,  I didn...| 2015-08-31|\n",
            "|         US|    2331478|R3BH071QLH8QMC|B0029CSOD2|      98937668|Hidden Mysteries:...|     Video Games|          1|            0|          1|   N|                Y|            One Star|poor quality work...| 2015-08-31|\n",
            "|         US|   52495923|R127K9NTSXA2YH|B00GOOSV98|      23143350|GelTabz Performan...|     Video Games|          3|            0|          0|   N|                Y|good, but could b...|nice, but tend to...| 2015-08-31|\n",
            "|         US|   14533949|R32ZWUXDJPW27Q|B00Y074JOM|     821342511|Zero Suit Samus a...|     Video Games|          4|            0|          0|   N|                Y|   Great but flawed.|Great amiibo, gre...| 2015-08-31|\n",
            "|         US|    2377552|R3AQQ4YUKJWBA6|B002UBI6W6|     328764615|Psyclone Recharge...|     Video Games|          1|            0|          0|   N|                Y|            One Star|The remote consta...| 2015-08-31|\n",
            "|         US|   17521011|R2F0POU5K6F73F|B008XHCLFO|      24234603|Protection for yo...|     Video Games|          5|            0|          0|   N|                Y|              A Must|I have a 2012-201...| 2015-08-31|\n",
            "|         US|   19676307|R3VNR804HYSMR6|B00BRA9R6A|     682267517|   Nerf 3DS XL Armor|     Video Games|          5|            0|          0|   N|                Y|          Five Stars|Perfect, kids lov...| 2015-08-31|\n",
            "|         US|     224068| R3GZTM72WA2QH|B009EPWJLA|     435241890|One Piece: Pirate...|     Video Games|          5|            0|          0|   N|                Y|          Five Stars|            Excelent| 2015-08-31|\n",
            "|         US|   48467989| RNQOY62705W1K|B0000AV7GB|     256572651|Playstation 2 Dan...|     Video Games|          4|            0|          0|   N|                Y|          Four Stars|Slippery but expe...| 2015-08-31|\n",
            "|         US|     106569|R1VTIA3JTYBY02|B00008KTNN|     384411423|Metal Arms: Glitc...|     Video Games|          5|            0|          0|   N|                N|          Five Stars|Love the game. Se...| 2015-08-31|\n",
            "|         US|   48269642|R29DOU8791QZL8|B000A3IA0Y|     472622859|72 Pin Connector ...|     Video Games|          1|            0|          0|   N|                Y| Game will get stuck|Does not fit prop...| 2015-08-31|\n",
            "|         US|   52738710|R15DUT1VIJ9RJZ|B0053BQN34|     577628462|uDraw Gametablet ...|     Video Games|          2|            0|          0|   N|                Y|We have tried it ...|This was way too ...| 2015-08-31|\n",
            "|         US|   10556786|R3IMF2MQ3OU9ZM|B002I0HIMI|     988218515|NBA 2K12(Covers M...|     Video Games|          4|            0|          0|   N|                Y|          Four Stars|Works great good ...| 2015-08-31|\n",
            "|         US|    2963837|R23H79DHOZTYAU|B0081EH12M|     770100932|New Trigger Grips...|     Video Games|          1|            1|          1|   N|                Y|Now i have to buy...|It did not fit th...| 2015-08-31|\n",
            "|         US|   23092109| RIV24EQAIXA4O|B005FMLZQQ|      24647669|Xbox 360 Media Re...|     Video Games|          5|            0|          0|   N|                Y|          Five Stars|perfect lightweig...| 2015-08-31|\n",
            "|         US|   23091728|R3UCNGYDVN24YB|B002BSA388|      33706205|Super Mario Galaxy 2|     Video Games|          5|            0|          0|   N|                Y|          Five Stars|               great| 2015-08-31|\n",
            "|         US|   10712640| RUL4H4XTTN2DY|B00BUSLSAC|     829667834|Nintendo 3DS XL -...|     Video Games|          5|            0|          0|   N|                Y|          Five Stars|Works beautifully...| 2015-08-31|\n",
            "|         US|   17455376|R20JF7Z4DHTNX5|B00KWF38AW|     110680188|Captain Toad:  Tr...|     Video Games|          5|            0|          0|   N|                Y|          Five Stars|Kids loved the ga...| 2015-08-31|\n",
            "|         US|   14754850|R2T1AJ5MFI2260|B00BRQJYA8|     616463426|Lego Batman 2: DC...|     Video Games|          4|            0|          0|   N|                Y|          Four Stars|           Goodngame| 2015-08-31|\n",
            "+-----------+-----------+--------------+----------+--------------+--------------------+----------------+-----------+-------------+-----------+----+-----------------+--------------------+--------------------+-----------+\n",
            "only showing top 20 rows\n",
            "\n"
          ]
        }
      ]
    },
    {
      "cell_type": "markdown",
      "metadata": {
        "id": "2yUSe55VY-9t"
      },
      "source": [
        "### Create DataFrames to match tables"
      ]
    },
    {
      "cell_type": "code",
      "metadata": {
        "id": "C8REmY1aY-9u",
        "colab": {
          "base_uri": "https://localhost:8080/"
        },
        "outputId": "c63203d5-8e7c-4a02-b640-0b0ace12b410"
      },
      "source": [
        "from pyspark.sql.functions import to_date\n",
        "# Read in the Review dataset as a DataFrame\n",
        "vine_df = df.select([\"customer_id\",\"review_id\",\"product_id\",\"product_parent\",\"product_title\",\"product_category\",\"star_rating\",\"helpful_votes\",\"total_votes\",\"vine\",\"verified_purchase\",\"review_headline\",\"review_body\",\"review_date\"])\n",
        "vine_df.show()"
      ],
      "execution_count": 5,
      "outputs": [
        {
          "output_type": "stream",
          "name": "stdout",
          "text": [
            "+-----------+--------------+----------+--------------+--------------------+----------------+-----------+-------------+-----------+----+-----------------+--------------------+--------------------+-----------+\n",
            "|customer_id|     review_id|product_id|product_parent|       product_title|product_category|star_rating|helpful_votes|total_votes|vine|verified_purchase|     review_headline|         review_body|review_date|\n",
            "+-----------+--------------+----------+--------------+--------------------+----------------+-----------+-------------+-----------+----+-----------------+--------------------+--------------------+-----------+\n",
            "|   12039526| RTIS3L2M1F5SM|B001CXYMFS|     737716809|Thrustmaster T-Fl...|     Video Games|          5|            0|          0|   N|                Y|an amazing joysti...|Used this for Eli...| 2015-08-31|\n",
            "|    9636577| R1ZV7R40OLHKD|B00M920ND6|     569686175|Tonsee 6 buttons ...|     Video Games|          5|            0|          0|   N|                Y|Definitely a sile...|Loved it,  I didn...| 2015-08-31|\n",
            "|    2331478|R3BH071QLH8QMC|B0029CSOD2|      98937668|Hidden Mysteries:...|     Video Games|          1|            0|          1|   N|                Y|            One Star|poor quality work...| 2015-08-31|\n",
            "|   52495923|R127K9NTSXA2YH|B00GOOSV98|      23143350|GelTabz Performan...|     Video Games|          3|            0|          0|   N|                Y|good, but could b...|nice, but tend to...| 2015-08-31|\n",
            "|   14533949|R32ZWUXDJPW27Q|B00Y074JOM|     821342511|Zero Suit Samus a...|     Video Games|          4|            0|          0|   N|                Y|   Great but flawed.|Great amiibo, gre...| 2015-08-31|\n",
            "|    2377552|R3AQQ4YUKJWBA6|B002UBI6W6|     328764615|Psyclone Recharge...|     Video Games|          1|            0|          0|   N|                Y|            One Star|The remote consta...| 2015-08-31|\n",
            "|   17521011|R2F0POU5K6F73F|B008XHCLFO|      24234603|Protection for yo...|     Video Games|          5|            0|          0|   N|                Y|              A Must|I have a 2012-201...| 2015-08-31|\n",
            "|   19676307|R3VNR804HYSMR6|B00BRA9R6A|     682267517|   Nerf 3DS XL Armor|     Video Games|          5|            0|          0|   N|                Y|          Five Stars|Perfect, kids lov...| 2015-08-31|\n",
            "|     224068| R3GZTM72WA2QH|B009EPWJLA|     435241890|One Piece: Pirate...|     Video Games|          5|            0|          0|   N|                Y|          Five Stars|            Excelent| 2015-08-31|\n",
            "|   48467989| RNQOY62705W1K|B0000AV7GB|     256572651|Playstation 2 Dan...|     Video Games|          4|            0|          0|   N|                Y|          Four Stars|Slippery but expe...| 2015-08-31|\n",
            "|     106569|R1VTIA3JTYBY02|B00008KTNN|     384411423|Metal Arms: Glitc...|     Video Games|          5|            0|          0|   N|                N|          Five Stars|Love the game. Se...| 2015-08-31|\n",
            "|   48269642|R29DOU8791QZL8|B000A3IA0Y|     472622859|72 Pin Connector ...|     Video Games|          1|            0|          0|   N|                Y| Game will get stuck|Does not fit prop...| 2015-08-31|\n",
            "|   52738710|R15DUT1VIJ9RJZ|B0053BQN34|     577628462|uDraw Gametablet ...|     Video Games|          2|            0|          0|   N|                Y|We have tried it ...|This was way too ...| 2015-08-31|\n",
            "|   10556786|R3IMF2MQ3OU9ZM|B002I0HIMI|     988218515|NBA 2K12(Covers M...|     Video Games|          4|            0|          0|   N|                Y|          Four Stars|Works great good ...| 2015-08-31|\n",
            "|    2963837|R23H79DHOZTYAU|B0081EH12M|     770100932|New Trigger Grips...|     Video Games|          1|            1|          1|   N|                Y|Now i have to buy...|It did not fit th...| 2015-08-31|\n",
            "|   23092109| RIV24EQAIXA4O|B005FMLZQQ|      24647669|Xbox 360 Media Re...|     Video Games|          5|            0|          0|   N|                Y|          Five Stars|perfect lightweig...| 2015-08-31|\n",
            "|   23091728|R3UCNGYDVN24YB|B002BSA388|      33706205|Super Mario Galaxy 2|     Video Games|          5|            0|          0|   N|                Y|          Five Stars|               great| 2015-08-31|\n",
            "|   10712640| RUL4H4XTTN2DY|B00BUSLSAC|     829667834|Nintendo 3DS XL -...|     Video Games|          5|            0|          0|   N|                Y|          Five Stars|Works beautifully...| 2015-08-31|\n",
            "|   17455376|R20JF7Z4DHTNX5|B00KWF38AW|     110680188|Captain Toad:  Tr...|     Video Games|          5|            0|          0|   N|                Y|          Five Stars|Kids loved the ga...| 2015-08-31|\n",
            "|   14754850|R2T1AJ5MFI2260|B00BRQJYA8|     616463426|Lego Batman 2: DC...|     Video Games|          4|            0|          0|   N|                Y|          Four Stars|           Goodngame| 2015-08-31|\n",
            "+-----------+--------------+----------+--------------+--------------------+----------------+-----------+-------------+-----------+----+-----------------+--------------------+--------------------+-----------+\n",
            "only showing top 20 rows\n",
            "\n"
          ]
        }
      ]
    },
    {
      "cell_type": "code",
      "metadata": {
        "id": "Exuo6ebUsCqW",
        "colab": {
          "base_uri": "https://localhost:8080/"
        },
        "outputId": "4024b780-c117-41e0-87a5-d3b5d4f336e7"
      },
      "source": [
        "new_vine_df = vine_df.filter(\"total_votes>=20\").orderBy(vine_df[\"total_votes\"].asc())\n",
        "new_vine_df.show()"
      ],
      "execution_count": 12,
      "outputs": [
        {
          "output_type": "stream",
          "name": "stdout",
          "text": [
            "+-----------+--------------+----------+--------------+--------------------+----------------+-----------+-------------+-----------+----+-----------------+--------------------+--------------------+-----------+\n",
            "|customer_id|     review_id|product_id|product_parent|       product_title|product_category|star_rating|helpful_votes|total_votes|vine|verified_purchase|     review_headline|         review_body|review_date|\n",
            "+-----------+--------------+----------+--------------+--------------------+----------------+-----------+-------------+-----------+----+-----------------+--------------------+--------------------+-----------+\n",
            "|     156484|R3EI0JMVNT5XO3|B00ZTJWWG2|     960237619|Gun / Fishing Rod...|     Video Games|          5|           20|         20|   N|                Y|Very compatible f...|I am very happy t...| 2015-07-17|\n",
            "|   52333626|R2PDRZJOVO772P|B00U33Q940|     607192535|NVIDIA SHIELD - 4...|     Video Games|          1|            2|         20|   N|                Y|          Buggy junk|Tech support ends...| 2015-06-06|\n",
            "|   42591671|R15W8DZ57HXZ28|B003O3EFY2|     596454780|Hyperkin Retron 3...|     Video Games|          5|           19|         20|   N|                Y|            must own|I have to start o...| 2015-07-16|\n",
            "|   11295708| R60GI4Z1CNGGV|B00P45U628|     784469446|GAEMS M155 15.5\" ...|     Video Games|          5|           17|         20|   N|                Y|           I love it|Had to sneak out ...| 2015-08-28|\n",
            "|    6305632|R1Y6ZYTARUH13D|B00USM22DI|     329476181|God of War III Re...|     Video Games|          5|           14|         20|   N|                N|       A masterpiece|GOW III is easily...| 2015-07-14|\n",
            "|   18373388|R18YE5XIUB40P9|B0029M6VKA|     381564692|TrackIr 5 Premium...|     Video Games|          5|           18|         20|   N|                Y|  Great, but beware!|Works great.  Doe...| 2015-08-26|\n",
            "|   49047948| RQ4NYV9QVM2IJ|B00URE9SSE|     290902399|Final Fantasy X X...|     Video Games|          1|            0|         20|   N|                N|how you get to ch...|how you get to ch...| 2015-07-13|\n",
            "|   41407731|R1RA7M526HB0O7|B00W435BU0|     487294121|       Madden NFL 16|     Video Games|          1|            7|         20|   N|                N|Madden 15 had a b...|Was very excited ...| 2015-08-25|\n",
            "|   14859638| R7UQ7ME8NFJMX|B00WRHWGYC|     492841182|FPS Freek Black O...|     Video Games|          1|            0|         20|   N|                N|Deceptive product...|This is not the g...| 2015-07-10|\n",
            "|    5604247|R23Z2K6GIQ2E6O|B00MN5OMCC|     830944454|CYBER Neko Nyan N...|     Video Games|          4|           19|         20|   N|                Y|Really cute, but ...|They came right o...| 2015-08-19|\n",
            "|    2588019|R35DU99CE52BYO|B00S66U3FC|     296433177|Girls Mode3 Kirak...|     Video Games|          1|            0|         20|   N|                Y|              Really|I didn't know It ...| 2015-07-09|\n",
            "|   10583033|R202NID9FG773L|B0106XFCPI|     543404455|    Horipad FPS Plus|     Video Games|          1|            7|         20|   N|                Y|You may want to s...|Sending this cont...| 2015-08-18|\n",
            "|   10982713|R3OQO0JJGRR6IE|B00TDM91CY|     322292100|State of Decay- Y...|     Video Games|          1|            1|         20|   N|                Y|            One Star|                lame| 2015-07-08|\n",
            "|      76571|R13TCXU89VZ0WC|B00DT04JQO|     418243245|LevelUp RT Contro...|     Video Games|          3|           19|         20|   N|                Y|  A bit disappointed|Disappointed with...| 2015-08-05|\n",
            "|   28307702|R1RXZXSWUD8P77|B00VETEZ16|     227503127|500GB PlayStation...|     Video Games|          1|            6|         20|   N|                Y|        Disappointed|Just played for 2...| 2015-07-04|\n",
            "|   48673881|R3A3RBUZ2YUVS6|B00S1LRX3W|     391171637| Nintendo New 3DS XL|     Video Games|          1|            1|         20|   N|                Y|  very disappointed.|Item was not what...| 2015-07-30|\n",
            "|   33450935|R26OQY0D8FB0TN|B00FEKOXJ0|     681125586|Skylanders SWAP F...|     Video Games|          1|           16|         20|   N|                Y|Complete waste of...|This is my review...| 2015-07-01|\n",
            "|   48264252|R12Y2M8INL5KGU|B0053B66KE|     413365293|           Pokemon Y|     Video Games|          1|            1|         20|   N|                Y|            One Star|      Horrible game!| 2015-07-27|\n",
            "|   51240922|R118B93YIOJBNL|B00OM6SAOQ|     683539580|FINAL FANTASY XIV...|     Video Games|          1|            1|         20|   N|                N|Tried the demo an...|Tried the demo an...| 2015-06-30|\n",
            "|   41644037|R1N1YR7XNB54BF|B004W4TG5K|     916739768|Nintendo 3DS Char...|     Video Games|          5|           20|         20|   N|                Y|Happy boy= happy mom|My son has autism...| 2015-07-24|\n",
            "+-----------+--------------+----------+--------------+--------------------+----------------+-----------+-------------+-----------+----+-----------------+--------------------+--------------------+-----------+\n",
            "only showing top 20 rows\n",
            "\n"
          ]
        }
      ]
    },
    {
      "cell_type": "code",
      "source": [
        "divided_df = new_vine_df.withColumn(\"divided\",new_vine_df[\"helpful_votes\"]/new_vine_df[\"total_votes\"]*100).filter(\"divided>=50\").drop(\"divided\")\n",
        "divided_df.show()"
      ],
      "metadata": {
        "colab": {
          "base_uri": "https://localhost:8080/"
        },
        "id": "FftNMPnjGH3P",
        "outputId": "549c1f1c-9556-40d5-954c-b6fd0105b2ca"
      },
      "execution_count": 19,
      "outputs": [
        {
          "output_type": "stream",
          "name": "stdout",
          "text": [
            "+-----------+--------------+----------+--------------+--------------------+----------------+-----------+-------------+-----------+----+-----------------+--------------------+--------------------+-----------+\n",
            "|customer_id|     review_id|product_id|product_parent|       product_title|product_category|star_rating|helpful_votes|total_votes|vine|verified_purchase|     review_headline|         review_body|review_date|\n",
            "+-----------+--------------+----------+--------------+--------------------+----------------+-----------+-------------+-----------+----+-----------------+--------------------+--------------------+-----------+\n",
            "|   16028426|R2G8UKUJZEL4EB|B00VHWMKEY|     540904094|Splatoon Amiibo P...|     Video Games|          5|           19|         20|   N|                Y|Great addon for S...|It's really unfor...| 2015-07-23|\n",
            "|   45184473| RNE0A8LOLHTNG|B00LYYN4MM|     795887570|        Project CARS|     Video Games|          2|           14|         20|   N|                N|Another \"semi-bro...|This is a pretty ...| 2015-05-12|\n",
            "|     156484|R3EI0JMVNT5XO3|B00ZTJWWG2|     960237619|Gun / Fishing Rod...|     Video Games|          5|           20|         20|   N|                Y|Very compatible f...|I am very happy t...| 2015-07-17|\n",
            "|   11295708| R60GI4Z1CNGGV|B00P45U628|     784469446|GAEMS M155 15.5\" ...|     Video Games|          5|           17|         20|   N|                Y|           I love it|Had to sneak out ...| 2015-08-28|\n",
            "|   42591671|R15W8DZ57HXZ28|B003O3EFY2|     596454780|Hyperkin Retron 3...|     Video Games|          5|           19|         20|   N|                Y|            must own|I have to start o...| 2015-07-16|\n",
            "|   41420223|R18UIVCYVG6HKQ|B0118GJKIW|     120888661|Xbox One 500GB Co...|     Video Games|          3|           13|         20|   N|                N|It's ok, not grea...|While seemingly a...| 2015-08-25|\n",
            "|    6305632|R1Y6ZYTARUH13D|B00USM22DI|     329476181|God of War III Re...|     Video Games|          5|           14|         20|   N|                N|       A masterpiece|GOW III is easily...| 2015-07-14|\n",
            "|    5604247|R23Z2K6GIQ2E6O|B00MN5OMCC|     830944454|CYBER Neko Nyan N...|     Video Games|          4|           19|         20|   N|                Y|Really cute, but ...|They came right o...| 2015-08-19|\n",
            "|   33450935|R26OQY0D8FB0TN|B00FEKOXJ0|     681125586|Skylanders SWAP F...|     Video Games|          1|           16|         20|   N|                Y|Complete waste of...|This is my review...| 2015-07-01|\n",
            "|   41644037|R1N1YR7XNB54BF|B004W4TG5K|     916739768|Nintendo 3DS Char...|     Video Games|          5|           20|         20|   N|                Y|Happy boy= happy mom|My son has autism...| 2015-07-24|\n",
            "|   28054788| RPILRULHOKNDQ|B00PB9LZQI|     973897270|Legend of Zelda: ...|     Video Games|          5|           19|         20|   N|                N|       An Experience|I see a lot of re...| 2015-06-26|\n",
            "|   40155361|R30NFTKJFKHP67|B00TKLFOKQ|     322128337|ArcaniA - The Com...|     Video Games|          5|           20|         20|   N|                Y|        A hidden gem|This game isn't w...| 2015-08-05|\n",
            "|   10105955| R24PBSGVRTGKG|B00VETEZ34|      53980133|PlayStation 4 500...|     Video Games|          5|           19|         20|   N|                N|Beautiful edition...|This console look...| 2015-06-25|\n",
            "|   31965716|R3HK9S8FAXTO5G|B00TS0UK0I|     979653090|Ness amiibo - Jap...|     Video Games|          1|           10|         20|   N|                N|So yeah. You, the...|So yeah. You, the...| 2015-06-02|\n",
            "|   13467041|R152GY7O1WMJI1|B00NAW5I8Y|       8468784|New Nintendo 3DS ...|     Video Games|          5|           19|         20|   N|                Y|    Works great! ^_^|Convenient chargi...| 2015-05-14|\n",
            "|     917780| R5VG5VEW2R36B|B00TS0UK0I|     979653090|Ness amiibo - Jap...|     Video Games|          1|           11|         20|   N|                N|   Mother of Nowhere|Why make Ness exc...| 2015-05-31|\n",
            "|   41236296| RYJVJ765QAQJW|B00W435BU0|     487294121|       Madden NFL 16|     Video Games|          1|           14|         20|   N|                N|It shows Madden h...|Madden needs comp...| 2015-08-26|\n",
            "|   52938899|R3CA6DOZ99B9O8|B00UUJHP54|     309973160|P4COOLER PS4 Hori...|     Video Games|          4|           18|         20|   N|                N|I like it but mor...|The PS4COOLER was...| 2015-05-31|\n",
            "|   11441942|R1FB1X19DAZF8X|B002MGPAKU|     276813315|Mario Kart Racing...|     Video Games|          5|           19|         20|   N|                Y|Just as good as W...|Spot-on reproduct...| 2015-07-23|\n",
            "|   11123771| RJTB5CVD9OREV|B00V86BRHU|     375499210|     Nintendo Amiibo|     Video Games|          1|           13|         20|   N|                Y|Spent so much tim...|Spent so much tim...| 2015-05-30|\n",
            "+-----------+--------------+----------+--------------+--------------------+----------------+-----------+-------------+-----------+----+-----------------+--------------------+--------------------+-----------+\n",
            "only showing top 20 rows\n",
            "\n"
          ]
        }
      ]
    },
    {
      "cell_type": "code",
      "source": [
        "paid_df = divided_df.filter(divided_df[\"vine\"]==\"Y\")\n",
        "paid_df.show()"
      ],
      "metadata": {
        "colab": {
          "base_uri": "https://localhost:8080/"
        },
        "id": "1brfPgq3I26l",
        "outputId": "1fb41104-1f21-4181-8ffe-6494c4f90ebf"
      },
      "execution_count": 24,
      "outputs": [
        {
          "output_type": "stream",
          "name": "stdout",
          "text": [
            "+-----------+--------------+----------+--------------+--------------------+----------------+-----------+-------------+-----------+----+-----------------+--------------------+--------------------+-----------+\n",
            "|customer_id|     review_id|product_id|product_parent|       product_title|product_category|star_rating|helpful_votes|total_votes|vine|verified_purchase|     review_headline|         review_body|review_date|\n",
            "+-----------+--------------+----------+--------------+--------------------+----------------+-----------+-------------+-----------+----+-----------------+--------------------+--------------------+-----------+\n",
            "|   51865210|R3R0F8ETAGTIOT|B00KSVXSZU|     523326094|Turtle Beach - Ea...|     Video Games|          5|           14|         20|   Y|                N|Great headset for...|This is an over t...| 2014-09-23|\n",
            "|   26565724|R2INH817LTJFGI|B00D96BNGM|     324297629|Turtle Beach Call...|     Video Games|          5|           18|         20|   Y|                N|Quality, clarity ...|First off, even t...| 2013-11-26|\n",
            "|   51744990|R3KAW29CJ8L6DQ|B00EDNLO32|     308920528|Turtle Beach - i3...|     Video Games|          5|           17|         20|   Y|                N|            Awesome!|These over the ea...| 2014-12-05|\n",
            "|   42247018|R3N4QAXTQCA1ED|B00KVQQJBW|     298562340|Turtle Beach - Ea...|     Video Games|          5|           18|         20|   Y|                N|Another In Turtle...|Both my son and I...| 2014-10-17|\n",
            "|   42638584|R369DSVA6AH6SB|B00JQHU9RC|     225768017|Minecraft - Xbox 360|     Video Games|          5|           16|         21|   Y|                N|Fun, addictive - ...|I've been playing...| 2014-05-19|\n",
            "|   45889291|R3QJ1YLOZNKQ4L|B004DPSBJU|     747861182|Snakebyte Wii Pre...|     Video Games|          5|           19|         22|   Y|                N|Outstanding repla...|I've had the Wii ...| 2011-08-01|\n",
            "|   52139321| RF41VQVEOQ4DV|B005NH6NMY|     500078228|   HORI Racing Wheel|     Video Games|          5|           17|         22|   Y|                N|Excellent for you...|I have owned nume...| 2012-04-24|\n",
            "|   53080186|R10FO5UKKVZBK2|B00XO041RQ|     238654494|PDP AG7 True Wire...|     Video Games|          3|           23|         23|   Y|                N|Great sounding he...|[[VIDEOID:a9ebb8e...| 2015-08-03|\n",
            "|   50839060| REAX2MY43TDPR|B002FQM5OG|     942092834|Logitech Xbox 360...|     Video Games|          2|           19|         23|   Y|                N|Too Much Money Fo...|>>> Summary<br />...| 2009-11-29|\n",
            "|   34484043|R2JJLTBVU6R54W|B004G5TUJM|     218339121|   HORI Racing Wheel|     Video Games|          5|           16|         23|   Y|                N|The HORI Racing W...|I'm not a fan of ...| 2011-10-20|\n",
            "|   52818244| ROXZOMHBY8Y9S|B00HS5GS38|     467482132|Turtle Beach - Ea...|     Video Games|          4|           21|         23|   Y|                N|Dude, Take the shot!|The Turtle Beach ...| 2014-09-13|\n",
            "|   15185071| REQZP78LTC0EY|B00D96BO7K|     811460759|Turtle Beach Call...|     Video Games|          4|           21|         23|   Y|                N|Flexible, clear, ...|These are pretty ...| 2013-10-24|\n",
            "|   45042957| R7CIUV543EN2I|B00170BV6E|     862349310|                Pure|     Video Games|          4|           19|         23|   Y|                N|Good game, just n...|When playing this...| 2009-09-17|\n",
            "|   18020546| RKKMH184GEHKD|B00D6PTMB4|     301376610|      Rocksmith 2014|     Video Games|          5|           19|         23|   Y|                N|Who Knew It Could...|First let me star...| 2013-11-21|\n",
            "|   52113744|R1PU7JY8XL5M1N|B00B3PDHBU|     708603334|Turtle Beach Ear ...|     Video Games|          5|           19|         24|   Y|                N|VERY versatile an...|Wow the TBP510 Wi...| 2013-04-06|\n",
            "|   49681391| RQ5WD90PUNBU9|B00Q5JD2DM|      11681279|Turtle Beach Ear ...|     Video Games|          5|           21|         24|   Y|                N|So Vividly Clear ...|This Turtle Beach...| 2014-12-15|\n",
            "|   29202184| RM4KSGEOR7MU1|B00YXO5X4M|     832423177|Turtle Beach - Ea...|     Video Games|          5|           19|         24|   Y|                N|Definitely Worth ...|[[VIDEOID:5a58574...| 2015-07-03|\n",
            "|   50460887|R10P2XVXA9DYTO|B00ER8HHDO|     710428259|Just Dance Kids 2014|     Video Games|          5|           21|         25|   Y|                N|Fun for the whole...|As we already own...| 2013-11-26|\n",
            "|   52224246| RNRUIQVK27RDZ|B00D6PTMB4|     301376610|      Rocksmith 2014|     Video Games|          3|           17|         25|   Y|                N|Interesting way t...|Right up front I'...| 2013-10-29|\n",
            "|   52708408|R2GYO7WKCP4TOM|B0086V5V9A|     534465714|Tom Clancy's Spli...|     Video Games|          3|           18|         25|   Y|                N|Great game but di...|Tom Clancy's Spli...| 2013-08-29|\n",
            "+-----------+--------------+----------+--------------+--------------------+----------------+-----------+-------------+-----------+----+-----------------+--------------------+--------------------+-----------+\n",
            "only showing top 20 rows\n",
            "\n"
          ]
        }
      ]
    },
    {
      "cell_type": "code",
      "source": [
        "unpaid_df = divided_df.filter(divided_df[\"vine\"]==\"N\")\n",
        "unpaid_df.show()"
      ],
      "metadata": {
        "colab": {
          "base_uri": "https://localhost:8080/"
        },
        "id": "iJo22qQxMMbo",
        "outputId": "8e5bffc5-05da-4905-b5b9-38a1447bce01"
      },
      "execution_count": 38,
      "outputs": [
        {
          "output_type": "stream",
          "name": "stdout",
          "text": [
            "+-----------+--------------+----------+--------------+--------------------+----------------+-----------+-------------+-----------+----+-----------------+--------------------+--------------------+-----------+\n",
            "|customer_id|     review_id|product_id|product_parent|       product_title|product_category|star_rating|helpful_votes|total_votes|vine|verified_purchase|     review_headline|         review_body|review_date|\n",
            "+-----------+--------------+----------+--------------+--------------------+----------------+-----------+-------------+-----------+----+-----------------+--------------------+--------------------+-----------+\n",
            "|   16028426|R2G8UKUJZEL4EB|B00VHWMKEY|     540904094|Splatoon Amiibo P...|     Video Games|          5|           19|         20|   N|                Y|Great addon for S...|It's really unfor...| 2015-07-23|\n",
            "|   45184473| RNE0A8LOLHTNG|B00LYYN4MM|     795887570|        Project CARS|     Video Games|          2|           14|         20|   N|                N|Another \"semi-bro...|This is a pretty ...| 2015-05-12|\n",
            "|     156484|R3EI0JMVNT5XO3|B00ZTJWWG2|     960237619|Gun / Fishing Rod...|     Video Games|          5|           20|         20|   N|                Y|Very compatible f...|I am very happy t...| 2015-07-17|\n",
            "|   11295708| R60GI4Z1CNGGV|B00P45U628|     784469446|GAEMS M155 15.5\" ...|     Video Games|          5|           17|         20|   N|                Y|           I love it|Had to sneak out ...| 2015-08-28|\n",
            "|   42591671|R15W8DZ57HXZ28|B003O3EFY2|     596454780|Hyperkin Retron 3...|     Video Games|          5|           19|         20|   N|                Y|            must own|I have to start o...| 2015-07-16|\n",
            "|   41420223|R18UIVCYVG6HKQ|B0118GJKIW|     120888661|Xbox One 500GB Co...|     Video Games|          3|           13|         20|   N|                N|It's ok, not grea...|While seemingly a...| 2015-08-25|\n",
            "|    6305632|R1Y6ZYTARUH13D|B00USM22DI|     329476181|God of War III Re...|     Video Games|          5|           14|         20|   N|                N|       A masterpiece|GOW III is easily...| 2015-07-14|\n",
            "|    5604247|R23Z2K6GIQ2E6O|B00MN5OMCC|     830944454|CYBER Neko Nyan N...|     Video Games|          4|           19|         20|   N|                Y|Really cute, but ...|They came right o...| 2015-08-19|\n",
            "|   33450935|R26OQY0D8FB0TN|B00FEKOXJ0|     681125586|Skylanders SWAP F...|     Video Games|          1|           16|         20|   N|                Y|Complete waste of...|This is my review...| 2015-07-01|\n",
            "|   41644037|R1N1YR7XNB54BF|B004W4TG5K|     916739768|Nintendo 3DS Char...|     Video Games|          5|           20|         20|   N|                Y|Happy boy= happy mom|My son has autism...| 2015-07-24|\n",
            "|   28054788| RPILRULHOKNDQ|B00PB9LZQI|     973897270|Legend of Zelda: ...|     Video Games|          5|           19|         20|   N|                N|       An Experience|I see a lot of re...| 2015-06-26|\n",
            "|   40155361|R30NFTKJFKHP67|B00TKLFOKQ|     322128337|ArcaniA - The Com...|     Video Games|          5|           20|         20|   N|                Y|        A hidden gem|This game isn't w...| 2015-08-05|\n",
            "|   10105955| R24PBSGVRTGKG|B00VETEZ34|      53980133|PlayStation 4 500...|     Video Games|          5|           19|         20|   N|                N|Beautiful edition...|This console look...| 2015-06-25|\n",
            "|   31965716|R3HK9S8FAXTO5G|B00TS0UK0I|     979653090|Ness amiibo - Jap...|     Video Games|          1|           10|         20|   N|                N|So yeah. You, the...|So yeah. You, the...| 2015-06-02|\n",
            "|   13467041|R152GY7O1WMJI1|B00NAW5I8Y|       8468784|New Nintendo 3DS ...|     Video Games|          5|           19|         20|   N|                Y|    Works great! ^_^|Convenient chargi...| 2015-05-14|\n",
            "|     917780| R5VG5VEW2R36B|B00TS0UK0I|     979653090|Ness amiibo - Jap...|     Video Games|          1|           11|         20|   N|                N|   Mother of Nowhere|Why make Ness exc...| 2015-05-31|\n",
            "|   41236296| RYJVJ765QAQJW|B00W435BU0|     487294121|       Madden NFL 16|     Video Games|          1|           14|         20|   N|                N|It shows Madden h...|Madden needs comp...| 2015-08-26|\n",
            "|   52938899|R3CA6DOZ99B9O8|B00UUJHP54|     309973160|P4COOLER PS4 Hori...|     Video Games|          4|           18|         20|   N|                N|I like it but mor...|The PS4COOLER was...| 2015-05-31|\n",
            "|   11441942|R1FB1X19DAZF8X|B002MGPAKU|     276813315|Mario Kart Racing...|     Video Games|          5|           19|         20|   N|                Y|Just as good as W...|Spot-on reproduct...| 2015-07-23|\n",
            "|   11123771| RJTB5CVD9OREV|B00V86BRHU|     375499210|     Nintendo Amiibo|     Video Games|          1|           13|         20|   N|                Y|Spent so much tim...|Spent so much tim...| 2015-05-30|\n",
            "+-----------+--------------+----------+--------------+--------------------+----------------+-----------+-------------+-----------+----+-----------------+--------------------+--------------------+-----------+\n",
            "only showing top 20 rows\n",
            "\n"
          ]
        }
      ]
    },
    {
      "cell_type": "code",
      "source": [
        "total_revs = paid_df.count()\n",
        "print(total_revs)\n",
        "revs_5stars = paid_df.filter(\"star_rating == 5\").groupBy(\"customer_id\").count()\n",
        "total_revs_5stars = revs_5stars.count()\n",
        "print(total_revs_5stars)"
      ],
      "metadata": {
        "colab": {
          "base_uri": "https://localhost:8080/"
        },
        "id": "C71X74vxMrk_",
        "outputId": "a7df1350-3d11-45fb-bd5b-eb3ad16431aa"
      },
      "execution_count": 41,
      "outputs": [
        {
          "output_type": "stream",
          "name": "stdout",
          "text": [
            "94\n",
            "41\n"
          ]
        }
      ]
    },
    {
      "cell_type": "code",
      "source": [
        "print(\"The percentaje of 5 stars in the paid reviews is\" ,total_revs_5stars/total_revs*100,\"%\")"
      ],
      "metadata": {
        "colab": {
          "base_uri": "https://localhost:8080/"
        },
        "id": "NNlI6k_nUtes",
        "outputId": "94620182-9a9d-4306-a667-e0911f698e90"
      },
      "execution_count": 55,
      "outputs": [
        {
          "output_type": "stream",
          "name": "stdout",
          "text": [
            "The percentaje of 5 stars in the paid reviews is 43.61702127659575 %\n"
          ]
        }
      ]
    },
    {
      "cell_type": "code",
      "source": [
        "total_revs_unpaid = unpaid_df.count()\n",
        "print(total_revs_unpaid)\n",
        "revs_5stars = unpaid_df.filter(\"star_rating == 5\").groupBy(\"customer_id\").count()\n",
        "total_revs_5stars_unpaid = revs_5stars.count()\n",
        "print(total_revs_5stars_unpaid)"
      ],
      "metadata": {
        "colab": {
          "base_uri": "https://localhost:8080/"
        },
        "id": "X6Ro19mpT3el",
        "outputId": "e7b20f57-3210-4e2e-c6f0-d0bd354a003a"
      },
      "execution_count": 39,
      "outputs": [
        {
          "output_type": "stream",
          "name": "stdout",
          "text": [
            "40471\n",
            "12508\n"
          ]
        }
      ]
    },
    {
      "cell_type": "code",
      "source": [
        "print(\"The percentaje of 5 stars in the unpaid reviews is\" ,total_revs_5stars_unpaid/total_revs_unpaid*100,\"%\")"
      ],
      "metadata": {
        "colab": {
          "base_uri": "https://localhost:8080/"
        },
        "id": "Q-3lFQ3YU94V",
        "outputId": "76036e5d-f4ba-44f5-955b-19cb4437de29"
      },
      "execution_count": 54,
      "outputs": [
        {
          "output_type": "stream",
          "name": "stdout",
          "text": [
            "The percentaje of 5 stars in the unpaid reviews is  30.90608089743273 %\n"
          ]
        }
      ]
    }
  ]
}